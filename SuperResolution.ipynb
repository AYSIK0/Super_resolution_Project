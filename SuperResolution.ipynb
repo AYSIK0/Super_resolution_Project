{
 "cells": [
  {
   "cell_type": "code",
   "execution_count": 1,
   "metadata": {},
   "outputs": [],
   "source": [
    "################################################\n",
    "# Ayoub Sikouky\n",
    "# Title: SISR Using a Multi Model System\n",
    "# Edit Date: 23/04/2022\n",
    "################################################\n",
    "import os\n",
    "from pathlib import Path\n",
    "import tensorflow as tf\n",
    "from tensorflow.keras import Model\n",
    "from tensorflow.keras.layers import Input, Conv2D, Rescaling, Add, Lambda, Flatten, Dense, LeakyReLU, BatchNormalization \n",
    "from tensorflow.keras.losses import MeanAbsoluteError, binary_crossentropy, MeanSquaredError\n",
    "from tensorflow.keras.optimizers import Adam\n",
    "from tensorflow.keras.optimizers.schedules import PiecewiseConstantDecay\n",
    "from tensorflow.keras.callbacks import ModelCheckpoint\n",
    "\n",
    "\n",
    "import numpy as np\n",
    "import matplotlib.pyplot as plt\n",
    "import pandas as pd\n",
    "import json\n",
    "from typing import List"
   ]
  },
  {
   "cell_type": "markdown",
   "metadata": {},
   "source": [
    "## I - Data"
   ]
  },
  {
   "cell_type": "markdown",
   "metadata": {},
   "source": [
    "### 1.1 : Helper Functions"
   ]
  },
  {
   "cell_type": "code",
   "execution_count": 2,
   "metadata": {},
   "outputs": [],
   "source": [
    "def download_data(f_name, dst, source_url):\n",
    "    \"\"\"\n",
    "    Download and unzip datastes.\n",
    "    #### Args:\n",
    "    f_name: zip file name.\n",
    "    dst: The destination directory where the files will be stored.\n",
    "    source_url: The URL for the dataset.\n",
    "    \"\"\"\n",
    "    file_url = os.path.join(source_url, f_name)\n",
    "    dst_abspath = os.path.abspath(dst)\n",
    "    tf.keras.utils.get_file(f_name, file_url, cache_subdir=dst_abspath, extract=True)\n",
    "    # Removing the zip file.\n",
    "    os.remove(os.path.join(dst_abspath, f_name)) \n",
    "\n",
    "\n",
    "def get_paths(dirs: List[str], path_type):\n",
    "    \"\"\"\n",
    "    Retuns a list of images' paths inside a directories \n",
    "    that have \"path_type\" in their name.\n",
    "    #### Args:\n",
    "    dirs: The list of directories to be searched.\n",
    "    path_type: The \"characters\" to selcet which directories to search for images.\n",
    "    \"\"\"\n",
    "    if not isinstance(dirs, list):\n",
    "      raise Exception(\"'dirs' argument must be a list.\")\n",
    "\n",
    "    paths_list = [] # List of paths in \"dirs\"\n",
    "    subpaths_lists = [] # List of lists of images' paths.\n",
    "    for d in dirs:\n",
    "        if path_type in str(d):\n",
    "            paths_list.append(d)\n",
    "    paths_list.sort()\n",
    "    \n",
    "    if len(paths_list) == 1:\n",
    "        img_paths = [str(f) for f in paths_list[0].glob(\"**/*.png\")]\n",
    "        img_paths.sort()\n",
    "        return img_paths\n",
    "    else:\n",
    "      for main_path in paths_list:\n",
    "        tmp_subpath_list = [str(f) for f in main_path.glob(\"**/*.png\") if f.is_file]\n",
    "        tmp_subpath_list.sort()\n",
    "        subpaths_lists.append(tmp_subpath_list)\n",
    "\n",
    "    return subpaths_lists"
   ]
  },
  {
   "cell_type": "markdown",
   "metadata": {},
   "source": [
    "### 1.2: Preparing the Data"
   ]
  },
  {
   "cell_type": "markdown",
   "metadata": {},
   "source": [
    "#### 1.2.1 Download Data (if needed)"
   ]
  },
  {
   "cell_type": "code",
   "execution_count": 3,
   "metadata": {},
   "outputs": [],
   "source": [
    "# Downloading the datasets used in training and validation.\n",
    "if not os.path.exists(\"Original_Datasets\"):\n",
    "\n",
    "    DIV2K_URL = \"http://data.vision.ee.ethz.ch/cvl/DIV2K/\"\n",
    "    DIV2K_FILE_NAMES = [\"DIV2K_train_HR.zip\", \"DIV2K_valid_HR.zip\", \n",
    "                        \"DIV2K_train_LR_bicubic_X2.zip\", \"DIV2K_valid_LR_bicubic_X2.zip\"]\n",
    "    dst_dir = \"Original_Datasets/DIV2K\"\n",
    "\n",
    "    for file in DIV2K_FILE_NAMES:\n",
    "        download_data(file, dst_dir, DIV2K_URL)"
   ]
  },
  {
   "cell_type": "markdown",
   "metadata": {},
   "source": [
    "#### 1.2.2 Data Paths"
   ]
  },
  {
   "cell_type": "code",
   "execution_count": 4,
   "metadata": {},
   "outputs": [],
   "source": [
    "# Check if colab is used.\n",
    "using_google_colab = \"google.colab\" in str(get_ipython())\n",
    "\n",
    "## When Using Google Colab\n",
    "if using_google_colab:\n",
    "  from google.colab import drive\n",
    "  drive.mount('/content/drive')\n",
    "  colab_path = \"/content/drive/MyDrive/ARU's Master/Application Of Machine Learning/Assignments/Super_Resolution/\"\n",
    "  ALL_DATA_PATH = Path(colab_path+\"Original_Datasets\")\n",
    "  CHECKPOINT_PATH = colab_path + \"training_checkpoints/\"\n",
    "  MODELS_PATH = colab_path + \"Models/\"\n",
    "\n",
    "else:\n",
    "## When Using Local Machine.\n",
    "  ALL_DATA_PATH = Path(r\"Original_Datasets\")\n",
    "  CHECKPOINT_PATH = \"training_checkpoints/\"\n",
    "  MODELS_PATH = \"Models/\""
   ]
  },
  {
   "cell_type": "code",
   "execution_count": 5,
   "metadata": {},
   "outputs": [
    {
     "name": "stdout",
     "output_type": "stream",
     "text": [
      "HR Train Len: 800\n",
      "HR Valid Len: 100\n",
      "HR Train Paths Example:\n",
      "['Original_Datasets/DIV2K/DIV2K_train_HR/0001.png', 'Original_Datasets/DIV2K/DIV2K_train_HR/0002.png']\n",
      "LR Train Len: 800\n",
      "LR Valid Len: 100\n",
      "LR Train Paths Example:\n",
      "['Original_Datasets/DIV2K/DIV2K_train_LR_bicubic/X2/0001x2.png', 'Original_Datasets/DIV2K/DIV2K_train_LR_bicubic/X2/0002x2.png']\n"
     ]
    }
   ],
   "source": [
    "SCALE = 2 # The scale of the downsample images used.\n",
    "SCALING_TO_UPSAMPLE = {2: 1, 3: 1, 4: 2}\n",
    "\n",
    "# Getting all sub directories inside the working directory.\n",
    "all_paths = ALL_DATA_PATH.glob(\"**/*\")\n",
    "dirs = [d for d in all_paths if d.is_dir()]\n",
    "\n",
    "# Selecting HR (High Resolution) directories.\n",
    "all_sub_paths = get_paths(dirs, \"HR\")\n",
    "\n",
    "# \n",
    "HR_TRAIN_PATH, HR_VALID_PATH = all_sub_paths[0], all_sub_paths[1]\n",
    "print(f\"HR Train Len: {len(HR_TRAIN_PATH)}\")\n",
    "print(f\"HR Valid Len: {len(HR_VALID_PATH)}\")\n",
    "print(f\"HR Train Paths Example:\\n{HR_TRAIN_PATH[:2]}\")\n",
    "\n",
    "LR_TRAIN_PATH, LR_VALID_PATH = get_paths(dirs, f\"X{SCALE}\")\n",
    "print(f\"LR Train Len: {len(LR_TRAIN_PATH)}\")\n",
    "print(f\"LR Valid Len: {len(LR_VALID_PATH)}\")\n",
    "print(f\"LR Train Paths Example:\\n{LR_TRAIN_PATH[:2]}\")"
   ]
  },
  {
   "cell_type": "markdown",
   "metadata": {},
   "source": [
    "#### 1.2.3 Creating the datasets used in the models"
   ]
  },
  {
   "cell_type": "code",
   "execution_count": 6,
   "metadata": {},
   "outputs": [],
   "source": [
    "def load_img(file_name:str):\n",
    "    \"\"\"\n",
    "    Read and load an image (Dtype=int32)from a file name.\n",
    "    #### Args:\n",
    "    file_name: The image file name.\n",
    "    \"\"\"\n",
    "    img = tf.image.decode_image(tf.io.read_file(file_name), channels=3)\n",
    "    return tf.cast(img, tf.int32)\n",
    "\n",
    "def random_crop(lr_img, hr_img, hr_crop_size, scale, same_size=False):\n",
    "    \"\"\"\n",
    "    Randomly crop images.\n",
    "    #### Args:\n",
    "    lr_img: Low-resolution image.\n",
    "    hr_img: High-resolution image.\n",
    "    hr_crop_size: The crop size for the HR image.\n",
    "    scale: The scale of the LR image wrt HR image.\n",
    "    same_size: Wehther the images have the same size.\n",
    "    \"\"\"\n",
    "    hr_shape = tf.shape(hr_img)\n",
    "    \n",
    "    # To include the last columns and rows of pixels '+ 1' is needed.\n",
    "    # Dtype is int32 to be able to use indices to crop the image.\n",
    "    # Randomly selecting a value between [0 and hr_crop_size+1).\n",
    "    hr_top = tf.random.uniform(shape=(), maxval=hr_shape[0] - hr_crop_size + 1, dtype=tf.int32)\n",
    "    hr_left = tf.random.uniform(shape=(), maxval=hr_shape[1] - hr_crop_size + 1, dtype=tf.int32)\n",
    "\n",
    "    # Calculating the crop size for low resolution image.\n",
    "    if not same_size:\n",
    "        lr_crop_size = hr_crop_size // scale\n",
    "        lr_top = hr_top // scale\n",
    "        lr_left = hr_left // scale\n",
    "    else:\n",
    "        lr_crop_size = hr_crop_size\n",
    "        lr_top = hr_top\n",
    "        lr_left = hr_left\n",
    "\n",
    "    # Cropping the images.\n",
    "    lr_img_crop = lr_img[lr_top:lr_top + lr_crop_size, lr_left:lr_left + lr_crop_size]\n",
    "    hr_img_crop = hr_img[hr_top:hr_top + hr_crop_size, hr_left:hr_left + hr_crop_size]\n",
    "\n",
    "    return lr_img_crop, hr_img_crop\n",
    "\n",
    "def random_flip(lr_img, hr_img):\n",
    "    \"\"\"\n",
    "    Randomly flip the image horizantally and vertically.\n",
    "    #### Args:\n",
    "    lr_img: Low resolution image.\n",
    "    hr_img: High resolution image.\n",
    "    \"\"\"\n",
    "    rng = np.random.default_rng()\n",
    "    # Horizantal Flip\n",
    "    ran_value = rng.uniform(low=0, high=1, size=1)[0]\n",
    "    if ran_value >= 0.5:\n",
    "        lr_img = tf.image.flip_left_right(lr_img)\n",
    "        hr_img = tf.image.flip_left_right(hr_img)\n",
    "    # Vertical Flip\n",
    "    ran_value = rng.uniform(low=0, high=1, size=1)[0]\n",
    "    if ran_value >= 0.5:\n",
    "        lr_img = tf.image.flip_up_down(lr_img)\n",
    "        hr_img = tf.image.flip_up_down(hr_img)\n",
    "    return lr_img, hr_img\n",
    "\n",
    "def random_rotation(lr_img, hr_img):\n",
    "    \"\"\"\n",
    "    Randomly rotate the image.\n",
    "    #### Args:\n",
    "    lr_img: Low resolution image.\n",
    "    hr_img: High resolution image.\n",
    "    \"\"\"\n",
    "    rng = np.random.default_rng()\n",
    "    ran_value = rng.uniform(low=0, high=1, size=1)[0]\n",
    "    if ran_value >= 0.5:\n",
    "        num_rot = rng.integers(low=0, high=4, size=1)[0]\n",
    "        \"\"\"\n",
    "        num_rot:\n",
    "        0 rotation, 0 degrees.\n",
    "        1 rotation, 90 degrees.\n",
    "        2 rotations, 180 degrees.\n",
    "        3 rotations, 270 degrees.\n",
    "        \"\"\"\n",
    "        lr_img = tf.image.rot90(lr_img, k=num_rot)\n",
    "        hr_img = tf.image.rot90(hr_img, k=num_rot)\n",
    "    return lr_img, hr_img \n",
    "\n",
    "def convert_dtype(lr_img, hr_img, dtype=tf.float32):\n",
    "    \"\"\"\n",
    "    Convert the type of images.\n",
    "    #### Args:\n",
    "    lr_img: Low resolution image.\n",
    "    hr_img: High resolution image.\n",
    "    dtype: The new type of images.\n",
    "    \"\"\"\n",
    "    lr_img = tf.cast(lr_img, dtype)\n",
    "    hr_img = tf.cast(hr_img, dtype)\n",
    "    return lr_img, hr_img\n",
    "\n",
    "def create_dataset(lr_paths: List[str], hr_paths: List[str], batch_size:int=16, \n",
    "                   crop_size=96, scale:int=None, same_size=False, apply_trans=True, repeat=None):\n",
    "    \"\"\"\n",
    "    Create an optimised dataset to be used with a model.\n",
    "    #### Args:\n",
    "    lr_paths: List of Low-resolution images.\n",
    "    hr_paths: List of High-resolution images.\n",
    "    batch_size: The batch size used in the dataset.\n",
    "    crop_size: The crop size used for cropping the HR images; deafult=96.\n",
    "    scale: The scaling factor. \n",
    "    same_size: Wehther the images have the same size.\n",
    "    apply_trans: Whether to apply transformations; default=True.\n",
    "    repeat: The number of time the dataset will be repeated;\n",
    "             deafult=None, the dataset will be repeated indefinitely.\n",
    "    \"\"\"\n",
    "    \n",
    "    if not scale or scale < 2:\n",
    "        raise ValueError(f\"Scale must be an integer and >= 2, got '{scale}'\")\n",
    "\n",
    "    # A variable used by tensorflow data API to \n",
    "    # dynamically select the best value for its operation.\n",
    "    AUTOTUNE = tf.data.AUTOTUNE \n",
    "\n",
    "    imgs_paths = [lr_paths, hr_paths]\n",
    "    dataset_list = []\n",
    "\n",
    "    for type_path in imgs_paths:\n",
    "        tmp_ds = tf.data.Dataset.from_tensor_slices(type_path)\n",
    "        tmp_ds = tmp_ds.map(load_img, num_parallel_calls=AUTOTUNE)\n",
    "        dataset_list.append(tmp_ds)\n",
    "\n",
    "    # Creating the dataset by zipping together the LR and HR datasets.\n",
    "    dataset = tf.data.Dataset.zip((dataset_list[0], dataset_list[1]))\n",
    "\n",
    "    # Performing data augmentation.\n",
    "    if apply_trans:\n",
    "        dataset = dataset.map(lambda lr, hr: random_crop(lr, hr, crop_size, scale, same_size=same_size), num_parallel_calls=AUTOTUNE)\n",
    "        dataset = dataset.map(random_flip, num_parallel_calls=AUTOTUNE)\n",
    "        dataset = dataset.map(random_rotation, num_parallel_calls=AUTOTUNE)\n",
    "    \n",
    "    dataset = dataset.batch(batch_size, num_parallel_calls=AUTOTUNE)\n",
    "    dataset = dataset.map(convert_dtype, num_parallel_calls=AUTOTUNE) # Converting images to float32.\n",
    "    dataset = dataset.repeat(repeat) # Keeps generating data.\n",
    "    dataset = dataset.prefetch(AUTOTUNE) # prefecth data to speedup training.\n",
    "    return dataset"
   ]
  },
  {
   "cell_type": "code",
   "execution_count": 7,
   "metadata": {},
   "outputs": [
    {
     "name": "stdout",
     "output_type": "stream",
     "text": [
      "Metal device set to: Apple M1 Pro\n",
      "\n",
      "systemMemory: 16.00 GB\n",
      "maxCacheSize: 5.33 GB\n",
      "\n"
     ]
    },
    {
     "name": "stderr",
     "output_type": "stream",
     "text": [
      "2022-04-23 05:43:24.463195: I tensorflow/core/common_runtime/pluggable_device/pluggable_device_factory.cc:305] Could not identify NUMA node of platform GPU ID 0, defaulting to 0. Your kernel may not have been built with NUMA support.\n",
      "2022-04-23 05:43:24.463526: I tensorflow/core/common_runtime/pluggable_device/pluggable_device_factory.cc:271] Created TensorFlow device (/job:localhost/replica:0/task:0/device:GPU:0 with 0 MB memory) -> physical PluggableDevice (device: 0, name: METAL, pci bus id: <undefined>)\n"
     ]
    }
   ],
   "source": [
    "BATCH_SIZE = 16\n",
    "\n",
    "train_dataset = create_dataset(LR_TRAIN_PATH, HR_TRAIN_PATH, batch_size=BATCH_SIZE, \n",
    "                               crop_size=96, scale=SCALE, same_size=False, apply_trans=True)\n",
    "\n",
    "valid_dataset = create_dataset(LR_VALID_PATH, HR_VALID_PATH, batch_size=1, \n",
    "                                scale=SCALE, apply_trans=False, repeat=1)"
   ]
  },
  {
   "cell_type": "code",
   "execution_count": 8,
   "metadata": {},
   "outputs": [
    {
     "name": "stderr",
     "output_type": "stream",
     "text": [
      "2022-04-23 05:43:28.203790: W tensorflow/core/platform/profile_utils/cpu_utils.cc:128] Failed to get CPU frequency: 0 Hz\n"
     ]
    },
    {
     "name": "stdout",
     "output_type": "stream",
     "text": [
      "LR Batch: \n",
      "(TensorShape([16, 48, 48, 3]), tf.float32)\n",
      "HR Batch: \n",
      "(TensorShape([16, 96, 96, 3]), tf.float32)\n"
     ]
    },
    {
     "data": {
      "image/png": "[encoded data removed]",
      "text/plain": [
       "<Figure size 720x360 with 2 Axes>"
      ]
     },
     "metadata": {
      "needs_background": "light"
     },
     "output_type": "display_data"
    }
   ],
   "source": [
    "# Example of the produced datasets.\n",
    "for img_batch in train_dataset.take(1):\n",
    "    lr_batch, hr_batch = img_batch\n",
    "    # gg_lr = tf.clip_by_value(gg_lr_btch[0], 0, 255)\n",
    "    # gg_hr = tf.clip_by_value(gg_hr_btch[0], 0, 255)\n",
    "    lr_img = lr_batch[0]\n",
    "    hr_img = hr_batch[0]\n",
    "\n",
    "    plt.figure(figsize=(10, 5))\n",
    "    plt.subplot(1, 2, 1)\n",
    "    plt.imshow(tf.cast(lr_img, tf.uint8))\n",
    "    plt.subplot(1, 2, 2)\n",
    "    plt.imshow(tf.cast(hr_img, tf.uint8))\n",
    "    \n",
    "    print(f\"LR Batch: \\n{lr_batch.shape, lr_batch.dtype}\")\n",
    "    print(f\"HR Batch: \\n{hr_batch.shape, hr_batch.dtype}\")"
   ]
  },
  {
   "cell_type": "markdown",
   "metadata": {},
   "source": [
    "## II - Models"
   ]
  },
  {
   "cell_type": "markdown",
   "metadata": {},
   "source": [
    "### 2.1 Helper Functions"
   ]
  },
  {
   "cell_type": "code",
   "execution_count": 23,
   "metadata": {},
   "outputs": [],
   "source": [
    "################### General Helper Functions ################### \n",
    "def psnr_metric(org_img, up_img):\n",
    "    \"\"\"\n",
    "    Calculate PSNR between the two images.\n",
    "    #### Args:\n",
    "    org_img: Original image.\n",
    "    up_img: Upsampled image.\n",
    "    \"\"\"\n",
    "    return tf.image.psnr(org_img, up_img, max_val=255)\n",
    "\n",
    "def ssim_metric(org_img, up_img):\n",
    "    \"\"\"\n",
    "    Calculate SSIM between the two images.\n",
    "    #### Args:\n",
    "    org_img: Original image.\n",
    "    up_img: Upsampled image.\n",
    "    \"\"\"\n",
    "    return tf.image.ssim(org_img, up_img, max_val=255)\n",
    "\n",
    "def plot_metric(m_history, metric: str, val=True):\n",
    "  \"\"\"\n",
    "  TODO Add Description\n",
    "  \"\"\"\n",
    "  train_metric = m_history.history[metric]\n",
    "  if val:\n",
    "    val_metric = m_history.history[\"val_\"+metric]\n",
    "\n",
    "  num_epochs = range(1, len(train_metric)+1)\n",
    "  plt.plot(num_epochs, train_metric)\n",
    "  if val:\n",
    "    plt.plot(num_epochs, val_metric)\n",
    "  plt.xlabel(\"Epochs\")\n",
    "  plt.ylabel(metric)\n",
    "  if val:\n",
    "    plt.title(f\"Train and Validation: {metric}\")\n",
    "    plt.legend([\"Train\", \"Validation\"], loc=\"best\")\n",
    "  else:\n",
    "    plt.title(f\"Train : {metric}\")\n",
    "    plt.legend([\"Train\"], loc=\"best\")\n",
    "  \n",
    "  plt.show()"
   ]
  },
  {
   "cell_type": "markdown",
   "metadata": {},
   "source": [
    "### 2.2 Base Model"
   ]
  },
  {
   "cell_type": "code",
   "execution_count": 10,
   "metadata": {},
   "outputs": [],
   "source": [
    "def get_upsample_num(scaling_dict, scale):\n",
    "    \"\"\"\n",
    "    Return the number of upscaling blocks needed based on the scale factor.\n",
    "    #### Args:\n",
    "    scaling_dict: A dictionary for mapping scaling factors to the number \n",
    "                  of upscaling needed to achieve the upscaling.\n",
    "    scale: The sacle factor.\n",
    "    \"\"\"\n",
    "    try:\n",
    "        return scaling_dict[scale]\n",
    "    except KeyError:\n",
    "        raise KeyError(\"Only 2, 3, and 4 are supported as a scale.\")\n",
    "\n",
    "def create_resblock(in_layer, num_filters, kernel_size=3):\n",
    "    \"\"\"\n",
    "    Build the residual blocks.\n",
    "    #### Args:\n",
    "    in_layer: Layer to build on top of it.\n",
    "    num_filters: Number of filters in the convolutional layer.\n",
    "    kernel_size: The kernel size in the convolutional layer.\n",
    "    \"\"\"\n",
    "    x = Conv2D(num_filters, kernel_size=kernel_size, padding=\"same\", activation=\"relu\")(in_layer)\n",
    "    x = Conv2D(num_filters, kernel_size, padding=\"same\")(x)\n",
    "    x = Add()([in_layer, x])\n",
    "    return x\n",
    "    \n",
    "def upsample_block(in_layer, num_filters, scale):\n",
    "    \"\"\"\n",
    "    Build the upsampling blocks.\n",
    "    #### Args:\n",
    "    in_layer: Layer to build on top of it.\n",
    "    num_filters: Number of filters in the convolutional layer.\n",
    "    scale: Scaling factor.\n",
    "    \"\"\"\n",
    "    x = Conv2D(num_filters*(scale**2), kernel_size=3, padding='same')(in_layer)\n",
    "    x = Lambda(lambda z: tf.nn.depth_to_space(z, scale))(x)\n",
    "    return x\n",
    "\n",
    "def create_base_model(scale, scaling_dict, filters=64, k_size=9, resblocks=16):\n",
    "    \"\"\"\n",
    "    Build the base model.\n",
    "    #### Args:\n",
    "    scale: Scaling factor.\n",
    "    scaling_dict: A dictionary for mapping scaling factors to the number \n",
    "                  of upscaling needed to achieve the upscaling.\n",
    "    filters: Number of filters in the convolutional layers.\n",
    "    k_size: Kernel size used in the first convolutional layer.\n",
    "    resblocks: Number of residual blocks.\n",
    "    \"\"\"\n",
    "    if not scale or scale < 2:\n",
    "        raise ValueError(f\"Scale must be an integer and >= 2, got '{scale}'\")\n",
    "    # Number of upscaling factors.\n",
    "    n_upscaling_blocks = get_upsample_num(scaling_dict, scale)\n",
    "\n",
    "    ######################## Initial Part ########################\n",
    "    x_input = Input(shape=(200, 200, 3))\n",
    "    # Normalising the image to [-1, 1]\n",
    "    x = Rescaling(1./127.5, offset=-1)(x_input)\n",
    "    x = conv1 = Conv2D(filters=filters, kernel_size=k_size, \n",
    "                        padding=\"same\", activation=\"relu\")(x)\n",
    "\n",
    "    ######################## Residual Part ########################\n",
    "    # Creating the residual blocks.\n",
    "    for _ in range(resblocks):\n",
    "        x = create_resblock(x, num_filters=filters, kernel_size=3)\n",
    "    \n",
    "    x = Conv2D(filters, 3, padding=\"same\", activation=\"relu\")(x)\n",
    "    x = Add()([conv1, x])\n",
    "\n",
    "    ######################## Upsampling Part ########################\n",
    "    if scale % 2 == 0:\n",
    "        scale = 2\n",
    "    for _ in range(n_upscaling_blocks):\n",
    "        x = upsample_block(x, filters, scale)\n",
    "\n",
    "    ######################## Output ########################\n",
    "    x = Conv2D(3, k_size, padding=\"same\")(x)\n",
    "    return Model(inputs=x_input, outputs=x)"
   ]
  },
  {
   "cell_type": "code",
   "execution_count": 11,
   "metadata": {},
   "outputs": [],
   "source": [
    "base_model = create_base_model(SCALE, SCALING_TO_UPSAMPLE, filters=64, k_size=9, resblocks=16)"
   ]
  },
  {
   "cell_type": "code",
   "execution_count": 12,
   "metadata": {},
   "outputs": [
    {
     "name": "stdout",
     "output_type": "stream",
     "text": [
      "Model: \"model\"\n",
      "__________________________________________________________________________________________________\n",
      " Layer (type)                   Output Shape         Param #     Connected to                     \n",
      "==================================================================================================\n",
      " input_1 (InputLayer)           [(None, 200, 200, 3  0           []                               \n",
      "                                )]                                                                \n",
      "                                                                                                  \n",
      " rescaling (Rescaling)          (None, 200, 200, 3)  0           ['input_1[0][0]']                \n",
      "                                                                                                  \n",
      " conv2d (Conv2D)                (None, 200, 200, 64  15616       ['rescaling[0][0]']              \n",
      "                                )                                                                 \n",
      "                                                                                                  \n",
      " conv2d_1 (Conv2D)              (None, 200, 200, 64  36928       ['conv2d[0][0]']                 \n",
      "                                )                                                                 \n",
      "                                                                                                  \n",
      " conv2d_2 (Conv2D)              (None, 200, 200, 64  36928       ['conv2d_1[0][0]']               \n",
      "                                )                                                                 \n",
      "                                                                                                  \n",
      " add (Add)                      (None, 200, 200, 64  0           ['conv2d[0][0]',                 \n",
      "                                )                                 'conv2d_2[0][0]']               \n",
      "                                                                                                  \n",
      " conv2d_3 (Conv2D)              (None, 200, 200, 64  36928       ['add[0][0]']                    \n",
      "                                )                                                                 \n",
      "                                                                                                  \n",
      " conv2d_4 (Conv2D)              (None, 200, 200, 64  36928       ['conv2d_3[0][0]']               \n",
      "                                )                                                                 \n",
      "                                                                                                  \n",
      " add_1 (Add)                    (None, 200, 200, 64  0           ['add[0][0]',                    \n",
      "                                )                                 'conv2d_4[0][0]']               \n",
      "                                                                                                  \n",
      " conv2d_5 (Conv2D)              (None, 200, 200, 64  36928       ['add_1[0][0]']                  \n",
      "                                )                                                                 \n",
      "                                                                                                  \n",
      " conv2d_6 (Conv2D)              (None, 200, 200, 64  36928       ['conv2d_5[0][0]']               \n",
      "                                )                                                                 \n",
      "                                                                                                  \n",
      " add_2 (Add)                    (None, 200, 200, 64  0           ['add_1[0][0]',                  \n",
      "                                )                                 'conv2d_6[0][0]']               \n",
      "                                                                                                  \n",
      " conv2d_7 (Conv2D)              (None, 200, 200, 64  36928       ['add_2[0][0]']                  \n",
      "                                )                                                                 \n",
      "                                                                                                  \n",
      " conv2d_8 (Conv2D)              (None, 200, 200, 64  36928       ['conv2d_7[0][0]']               \n",
      "                                )                                                                 \n",
      "                                                                                                  \n",
      " add_3 (Add)                    (None, 200, 200, 64  0           ['add_2[0][0]',                  \n",
      "                                )                                 'conv2d_8[0][0]']               \n",
      "                                                                                                  \n",
      " conv2d_9 (Conv2D)              (None, 200, 200, 64  36928       ['add_3[0][0]']                  \n",
      "                                )                                                                 \n",
      "                                                                                                  \n",
      " conv2d_10 (Conv2D)             (None, 200, 200, 64  36928       ['conv2d_9[0][0]']               \n",
      "                                )                                                                 \n",
      "                                                                                                  \n",
      " add_4 (Add)                    (None, 200, 200, 64  0           ['add_3[0][0]',                  \n",
      "                                )                                 'conv2d_10[0][0]']              \n",
      "                                                                                                  \n",
      " conv2d_11 (Conv2D)             (None, 200, 200, 64  36928       ['add_4[0][0]']                  \n",
      "                                )                                                                 \n",
      "                                                                                                  \n",
      " conv2d_12 (Conv2D)             (None, 200, 200, 64  36928       ['conv2d_11[0][0]']              \n",
      "                                )                                                                 \n",
      "                                                                                                  \n",
      " add_5 (Add)                    (None, 200, 200, 64  0           ['add_4[0][0]',                  \n",
      "                                )                                 'conv2d_12[0][0]']              \n",
      "                                                                                                  \n",
      " conv2d_13 (Conv2D)             (None, 200, 200, 64  36928       ['add_5[0][0]']                  \n",
      "                                )                                                                 \n",
      "                                                                                                  \n",
      " conv2d_14 (Conv2D)             (None, 200, 200, 64  36928       ['conv2d_13[0][0]']              \n",
      "                                )                                                                 \n",
      "                                                                                                  \n",
      " add_6 (Add)                    (None, 200, 200, 64  0           ['add_5[0][0]',                  \n",
      "                                )                                 'conv2d_14[0][0]']              \n",
      "                                                                                                  \n",
      " conv2d_15 (Conv2D)             (None, 200, 200, 64  36928       ['add_6[0][0]']                  \n",
      "                                )                                                                 \n",
      "                                                                                                  \n",
      " conv2d_16 (Conv2D)             (None, 200, 200, 64  36928       ['conv2d_15[0][0]']              \n",
      "                                )                                                                 \n",
      "                                                                                                  \n",
      " add_7 (Add)                    (None, 200, 200, 64  0           ['add_6[0][0]',                  \n",
      "                                )                                 'conv2d_16[0][0]']              \n",
      "                                                                                                  \n",
      " conv2d_17 (Conv2D)             (None, 200, 200, 64  36928       ['add_7[0][0]']                  \n",
      "                                )                                                                 \n",
      "                                                                                                  \n",
      " conv2d_18 (Conv2D)             (None, 200, 200, 64  36928       ['conv2d_17[0][0]']              \n",
      "                                )                                                                 \n",
      "                                                                                                  \n",
      " add_8 (Add)                    (None, 200, 200, 64  0           ['add_7[0][0]',                  \n",
      "                                )                                 'conv2d_18[0][0]']              \n",
      "                                                                                                  \n",
      " conv2d_19 (Conv2D)             (None, 200, 200, 64  36928       ['add_8[0][0]']                  \n",
      "                                )                                                                 \n",
      "                                                                                                  \n",
      " conv2d_20 (Conv2D)             (None, 200, 200, 64  36928       ['conv2d_19[0][0]']              \n",
      "                                )                                                                 \n",
      "                                                                                                  \n",
      " add_9 (Add)                    (None, 200, 200, 64  0           ['add_8[0][0]',                  \n",
      "                                )                                 'conv2d_20[0][0]']              \n",
      "                                                                                                  \n",
      " conv2d_21 (Conv2D)             (None, 200, 200, 64  36928       ['add_9[0][0]']                  \n",
      "                                )                                                                 \n",
      "                                                                                                  \n",
      " conv2d_22 (Conv2D)             (None, 200, 200, 64  36928       ['conv2d_21[0][0]']              \n",
      "                                )                                                                 \n",
      "                                                                                                  \n",
      " add_10 (Add)                   (None, 200, 200, 64  0           ['add_9[0][0]',                  \n",
      "                                )                                 'conv2d_22[0][0]']              \n",
      "                                                                                                  \n",
      " conv2d_23 (Conv2D)             (None, 200, 200, 64  36928       ['add_10[0][0]']                 \n",
      "                                )                                                                 \n",
      "                                                                                                  \n",
      " conv2d_24 (Conv2D)             (None, 200, 200, 64  36928       ['conv2d_23[0][0]']              \n",
      "                                )                                                                 \n",
      "                                                                                                  \n",
      " add_11 (Add)                   (None, 200, 200, 64  0           ['add_10[0][0]',                 \n",
      "                                )                                 'conv2d_24[0][0]']              \n",
      "                                                                                                  \n",
      " conv2d_25 (Conv2D)             (None, 200, 200, 64  36928       ['add_11[0][0]']                 \n",
      "                                )                                                                 \n",
      "                                                                                                  \n",
      " conv2d_26 (Conv2D)             (None, 200, 200, 64  36928       ['conv2d_25[0][0]']              \n",
      "                                )                                                                 \n",
      "                                                                                                  \n",
      " add_12 (Add)                   (None, 200, 200, 64  0           ['add_11[0][0]',                 \n",
      "                                )                                 'conv2d_26[0][0]']              \n",
      "                                                                                                  \n",
      " conv2d_27 (Conv2D)             (None, 200, 200, 64  36928       ['add_12[0][0]']                 \n",
      "                                )                                                                 \n",
      "                                                                                                  \n",
      " conv2d_28 (Conv2D)             (None, 200, 200, 64  36928       ['conv2d_27[0][0]']              \n",
      "                                )                                                                 \n",
      "                                                                                                  \n",
      " add_13 (Add)                   (None, 200, 200, 64  0           ['add_12[0][0]',                 \n",
      "                                )                                 'conv2d_28[0][0]']              \n",
      "                                                                                                  \n",
      " conv2d_29 (Conv2D)             (None, 200, 200, 64  36928       ['add_13[0][0]']                 \n",
      "                                )                                                                 \n",
      "                                                                                                  \n",
      " conv2d_30 (Conv2D)             (None, 200, 200, 64  36928       ['conv2d_29[0][0]']              \n",
      "                                )                                                                 \n",
      "                                                                                                  \n",
      " add_14 (Add)                   (None, 200, 200, 64  0           ['add_13[0][0]',                 \n",
      "                                )                                 'conv2d_30[0][0]']              \n",
      "                                                                                                  \n",
      " conv2d_31 (Conv2D)             (None, 200, 200, 64  36928       ['add_14[0][0]']                 \n",
      "                                )                                                                 \n",
      "                                                                                                  \n",
      " conv2d_32 (Conv2D)             (None, 200, 200, 64  36928       ['conv2d_31[0][0]']              \n",
      "                                )                                                                 \n",
      "                                                                                                  \n",
      " add_15 (Add)                   (None, 200, 200, 64  0           ['add_14[0][0]',                 \n",
      "                                )                                 'conv2d_32[0][0]']              \n",
      "                                                                                                  \n",
      " conv2d_33 (Conv2D)             (None, 200, 200, 64  36928       ['add_15[0][0]']                 \n",
      "                                )                                                                 \n",
      "                                                                                                  \n",
      " add_16 (Add)                   (None, 200, 200, 64  0           ['conv2d[0][0]',                 \n",
      "                                )                                 'conv2d_33[0][0]']              \n",
      "                                                                                                  \n",
      " conv2d_34 (Conv2D)             (None, 200, 200, 25  147712      ['add_16[0][0]']                 \n",
      "                                6)                                                                \n",
      "                                                                                                  \n",
      " lambda (Lambda)                (None, 400, 400, 64  0           ['conv2d_34[0][0]']              \n",
      "                                )                                                                 \n",
      "                                                                                                  \n",
      " conv2d_35 (Conv2D)             (None, 400, 400, 3)  15555       ['lambda[0][0]']                 \n",
      "                                                                                                  \n",
      "==================================================================================================\n",
      "Total params: 1,397,507\n",
      "Trainable params: 1,397,507\n",
      "Non-trainable params: 0\n",
      "__________________________________________________________________________________________________\n"
     ]
    }
   ],
   "source": [
    "base_model.summary()"
   ]
  },
  {
   "cell_type": "code",
   "execution_count": null,
   "metadata": {},
   "outputs": [],
   "source": [
    "#tf.keras.utils.plot_model(base_model)"
   ]
  },
  {
   "cell_type": "code",
   "execution_count": 13,
   "metadata": {},
   "outputs": [
    {
     "name": "stdout",
     "output_type": "stream",
     "text": [
      "Total training Epochs: 250\n"
     ]
    }
   ],
   "source": [
    "# Callbacks\n",
    "my_checkpoint_callback = ModelCheckpoint(filepath=CHECKPOINT_PATH+\"model.{epoch:02d}-{val_loss:.2f}\", \n",
    "                                         save_weights_only=True,\n",
    "                                         monitor=\"val_loss\",\n",
    "                                         mode='min',\n",
    "                                         save_best_only=True,\n",
    "                                         initial_value_threshold=10.0)\n",
    "\n",
    "my_callbacks = [my_checkpoint_callback]\n",
    "\n",
    "\n",
    "training_updates = 12500\n",
    "steps_per_epoch = 50\n",
    "training_epochs = int(training_updates / steps_per_epoch)\n",
    "print(f\"Total training Epochs: {training_epochs}\")"
   ]
  },
  {
   "cell_type": "code",
   "execution_count": 14,
   "metadata": {},
   "outputs": [],
   "source": [
    "learning_rate = PiecewiseConstantDecay([10000], [1e-4, 1e-5])\n",
    "base_model.compile(optimizer=Adam(learning_rate=learning_rate, beta_1=0.9, beta_2=0.999,epsilon=1e-8), \n",
    "                   loss=MeanAbsoluteError(), \n",
    "                   metrics=[psnr_metric])"
   ]
  },
  {
   "cell_type": "code",
   "execution_count": null,
   "metadata": {},
   "outputs": [],
   "source": [
    "history = base_model.fit(train_dataset,validation_data=valid_dataset.take(10), \n",
    "                         steps_per_epoch=steps_per_epoch, epochs=training_epochs, callbacks=my_callbacks)"
   ]
  },
  {
   "cell_type": "code",
   "execution_count": 14,
   "metadata": {},
   "outputs": [
    {
     "name": "stdout",
     "output_type": "stream",
     "text": [
      "WARNING:tensorflow:Compiled the loaded model, but the compiled metrics have yet to be built. `model.compile_metrics` will be empty until you train or evaluate the model.\n"
     ]
    }
   ],
   "source": [
    "base_model.save(MODELS_PATH+\"2X_base_model.h5\")"
   ]
  },
  {
   "cell_type": "code",
   "execution_count": null,
   "metadata": {},
   "outputs": [],
   "source": [
    "plot_metric(history, \"loss\")\n",
    "plot_metric(history, \"psnr_metric\")"
   ]
  },
  {
   "cell_type": "code",
   "execution_count": 21,
   "metadata": {},
   "outputs": [],
   "source": [
    "def multi_save(t_model, model_name: str, model_dir: str, t_history):\n",
    "    \"\"\"\n",
    "    TODO Write Description\n",
    "    \"\"\"\n",
    "    try:\n",
    "        t_model.save(model_dir+model_name)\n",
    "        print(f\"{model_name} Was saved.\")\n",
    "\n",
    "        with open(model_dir+f\"{model_name}_t_history_dict.json\", 'w') as th_file:\n",
    "            json.dump(t_history.history, th_file)\n",
    "        print(f\"{model_name} history was saved in log directory.\")\n",
    "    except Exception as e:\n",
    "        print(e)"
   ]
  },
  {
   "cell_type": "code",
   "execution_count": 22,
   "metadata": {},
   "outputs": [
    {
     "name": "stdout",
     "output_type": "stream",
     "text": [
      "2X_base_model.h5 Was saved.\n",
      "2X_base_model.h5 history was saved in log directory.\n"
     ]
    }
   ],
   "source": [
    "multi_save(base_model, \"2X_base_model.h5\", MODELS_PATH, history)"
   ]
  },
  {
   "cell_type": "markdown",
   "metadata": {},
   "source": [
    "### 2.3 GAN Model"
   ]
  },
  {
   "cell_type": "markdown",
   "metadata": {},
   "source": [
    "## III - Evaluation"
   ]
  },
  {
   "cell_type": "markdown",
   "metadata": {},
   "source": []
  }
 ],
 "metadata": {
  "interpreter": {
   "hash": "b09a82c696b863a0dfbfcea318dd9ac9315936697a1c3f9d0b4de081771d98f5"
  },
  "kernelspec": {
   "display_name": "Python 3.9.7 ('ML_mac')",
   "language": "python",
   "name": "python3"
  },
  "language_info": {
   "codemirror_mode": {
    "name": "ipython",
    "version": 3
   },
   "file_extension": ".py",
   "mimetype": "text/x-python",
   "name": "python",
   "nbconvert_exporter": "python",
   "pygments_lexer": "ipython3",
   "version": "3.9.7"
  },
  "orig_nbformat": 4
 },
 "nbformat": 4,
 "nbformat_minor": 2
}
