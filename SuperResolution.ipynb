{
 "cells": [
  {
   "cell_type": "code",
   "execution_count": 1,
   "metadata": {},
   "outputs": [],
   "source": [
    "################################################\n",
    "# Ayoub Sikouky\n",
    "# Title: SISR Using a Multi Model System\n",
    "# Edit Date: 22/04/2022\n",
    "################################################\n",
    "import os\n",
    "import tensorflow as tf"
   ]
  },
  {
   "cell_type": "markdown",
   "metadata": {},
   "source": [
    "### 0 : Helper Functions"
   ]
  },
  {
   "cell_type": "code",
   "execution_count": 2,
   "metadata": {},
   "outputs": [],
   "source": [
    "########################### Data ###########################\n",
    "def download_data(f_name, dst, source_url):\n",
    "    \"\"\"\n",
    "    Download and unzip datastes.\n",
    "    #### Parameters:\n",
    "    f_name: zip file name.\n",
    "    dst: The destination directory where the files will be stored.\n",
    "    source_url: The URL for the dataset.\n",
    "    \"\"\"\n",
    "    file_url = os.path.join(source_url, f_name)\n",
    "    dst_abspath = os.path.abspath(dst)\n",
    "    tf.keras.utils.get_file(f_name, file_url, cache_subdir=dst_abspath, extract=True)\n",
    "    # Removing the zip file.\n",
    "    os.remove(os.path.join(dst_abspath, f_name)) "
   ]
  },
  {
   "cell_type": "markdown",
   "metadata": {},
   "source": [
    "### 1: Preparing the Data"
   ]
  },
  {
   "cell_type": "code",
   "execution_count": null,
   "metadata": {},
   "outputs": [],
   "source": [
    "# Downloading the datasets used in training and validation.\n",
    "DIV2K_URL = \"http://data.vision.ee.ethz.ch/cvl/DIV2K/\"\n",
    "DIV2K_FILE_NAMES = [\"DIV2K_train_HR.zip\", \"DIV2K_valid_HR.zip\", \n",
    "                    \"DIV2K_train_LR_bicubic_X2.zip\", \"DIV2K_valid_LR_bicubic_X2.zip\"]\n",
    "dst_dir = \"Original_Datasets/DIV2K\"\n",
    "\n",
    "\n",
    "for file in DIV2K_FILE_NAMES:\n",
    "    download_data(file, dst_dir, DIV2K_URL)"
   ]
  }
 ],
 "metadata": {
  "interpreter": {
   "hash": "b09a82c696b863a0dfbfcea318dd9ac9315936697a1c3f9d0b4de081771d98f5"
  },
  "kernelspec": {
   "display_name": "Python 3.9.7 ('ML_mac')",
   "language": "python",
   "name": "python3"
  },
  "language_info": {
   "codemirror_mode": {
    "name": "ipython",
    "version": 3
   },
   "file_extension": ".py",
   "mimetype": "text/x-python",
   "name": "python",
   "nbconvert_exporter": "python",
   "pygments_lexer": "ipython3",
   "version": "3.9.7"
  },
  "orig_nbformat": 4
 },
 "nbformat": 4,
 "nbformat_minor": 2
}
